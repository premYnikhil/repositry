{
 "cells": [
  {
   "cell_type": "code",
   "execution_count": 1,
   "id": "8efa8881",
   "metadata": {},
   "outputs": [
    {
     "name": "stdout",
     "output_type": "stream",
     "text": [
      "hello world\n"
     ]
    }
   ],
   "source": [
    "print('hello world')"
   ]
  },
  {
   "cell_type": "code",
   "execution_count": null,
   "id": "1d1ab230",
   "metadata": {},
   "outputs": [],
   "source": [
    "def even_or_odd(num):\n",
    "    if num%2==0:\n",
    "        print('even')\n",
    "    else:\n",
    "        print('odd')"
   ]
  },
  {
   "cell_type": "code",
   "execution_count": 1,
   "id": "524ce3f8",
   "metadata": {},
   "outputs": [
    {
     "name": "stdout",
     "output_type": "stream",
     "text": [
      "Prime numbers up to 100 are:\n",
      "[2, 3, 5, 7, 11, 13, 17, 19, 23, 29, 31, 37, 41, 43, 47, 53, 59, 61, 67, 71, 73, 79, 83, 89, 97]\n"
     ]
    }
   ],
   "source": [
    "def is_prime(number):\n",
    "    if number <= 1:\n",
    "        return False\n",
    "    for i in range(2, int(number ** 0.5) + 1):\n",
    "        if number % i == 0:\n",
    "            return False\n",
    "    return True\n",
    "\n",
    "def print_prime_numbers(n):\n",
    "    prime_numbers = []\n",
    "    for number in range(2, n+1):\n",
    "        if is_prime(number):\n",
    "            prime_numbers.append(number)\n",
    "    print(\"Prime numbers up to\", n, \"are:\")\n",
    "    print(prime_numbers)\n",
    "\n",
    "# Example usage: Print prime numbers up to 100\n",
    "print_prime_numbers(100)\n"
   ]
  },
  {
   "cell_type": "code",
   "execution_count": 2,
   "id": "9258d440",
   "metadata": {},
   "outputs": [
    {
     "name": "stdout",
     "output_type": "stream",
     "text": [
      "Even numbers up to 100 are:\n",
      "[2, 4, 6, 8, 10, 12, 14, 16, 18, 20, 22, 24, 26, 28, 30, 32, 34, 36, 38, 40, 42, 44, 46, 48, 50, 52, 54, 56, 58, 60, 62, 64, 66, 68, 70, 72, 74, 76, 78, 80, 82, 84, 86, 88, 90, 92, 94, 96, 98, 100]\n"
     ]
    }
   ],
   "source": [
    "def print_even_numbers(n):\n",
    "    even_numbers = []\n",
    "    for number in range(2, n+1, 2):\n",
    "        even_numbers.append(number)\n",
    "    print(\"Even numbers up to\", n, \"are:\")\n",
    "    print(even_numbers)\n",
    "\n",
    "# Example usage: Print even numbers up to 100\n",
    "print_even_numbers(100)\n"
   ]
  },
  {
   "cell_type": "code",
   "execution_count": null,
   "id": "a7af6830",
   "metadata": {},
   "outputs": [],
   "source": []
  }
 ],
 "metadata": {
  "kernelspec": {
   "display_name": "Python 3 (ipykernel)",
   "language": "python",
   "name": "python3"
  },
  "language_info": {
   "codemirror_mode": {
    "name": "ipython",
    "version": 3
   },
   "file_extension": ".py",
   "mimetype": "text/x-python",
   "name": "python",
   "nbconvert_exporter": "python",
   "pygments_lexer": "ipython3",
   "version": "3.10.9"
  }
 },
 "nbformat": 4,
 "nbformat_minor": 5
}
